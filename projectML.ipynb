{
  "nbformat": 4,
  "nbformat_minor": 0,
  "metadata": {
    "colab": {
      "provenance": []
    },
    "kernelspec": {
      "name": "python3",
      "display_name": "Python 3"
    },
    "language_info": {
      "name": "python"
    }
  },
  "cells": [
    {
      "cell_type": "code",
      "execution_count": 126,
      "metadata": {
        "id": "r_RX5zbewpeo"
      },
      "outputs": [],
      "source": [
        "from sklearn.ensemble import RandomForestClassifier\n",
        "from nltk.stem.porter import PorterStemmer\n",
        "from matplotlib import pyplot as plt\n",
        "from sklearn import svm\n",
        "import numpy as np\n",
        "import pandas as pd\n",
        "import random\n",
        "from sklearn.model_selection import train_test_split\n",
        "from sklearn.model_selection import cross_val_score\n",
        "from sklearn.linear_model import LogisticRegression\n",
        "from gensim.models import Word2Vec\n"
      ]
    },
    {
      "cell_type": "code",
      "source": [
        "!git clone https://github.com/tanahusarova/MLprojekt\n",
        "%cd MLprojekt\n",
        "\n",
        "df_train = pd.read_csv('chat_dataset_edited.csv')\n",
        "\n",
        "def get_label_vec(y, classes):\n",
        "  ret = [classes[i] for i in y]\n",
        "  return ret\n",
        "\n",
        "X_train, X_test, y_train, y_test = train_test_split(df_train['message'], df_train['sentiment'], test_size=0.20, random_state=41)\n",
        "classes = {'neutral': 0, 'passive-aggressive': 1}\n",
        "\n",
        "y_train = get_label_vec(y_train, classes)\n",
        "y_test = get_label_vec(y_test, classes)\n"
      ],
      "metadata": {
        "colab": {
          "base_uri": "https://localhost:8080/"
        },
        "id": "yc4pQDEJw-wz",
        "outputId": "7e63fb8a-d32a-40f3-8be3-7739628b1cf8"
      },
      "execution_count": 127,
      "outputs": [
        {
          "output_type": "stream",
          "name": "stdout",
          "text": [
            "Cloning into 'MLprojekt'...\n",
            "remote: Enumerating objects: 5, done.\u001b[K\n",
            "remote: Counting objects:  20% (1/5)\u001b[K\rremote: Counting objects:  40% (2/5)\u001b[K\rremote: Counting objects:  60% (3/5)\u001b[K\rremote: Counting objects:  80% (4/5)\u001b[K\rremote: Counting objects: 100% (5/5)\u001b[K\rremote: Counting objects: 100% (5/5), done.\u001b[K\n",
            "remote: Compressing objects: 100% (5/5), done.\u001b[K\n",
            "remote: Total 5 (delta 0), reused 0 (delta 0), pack-reused 0\u001b[K\n",
            "Receiving objects: 100% (5/5), 18.99 KiB | 3.80 MiB/s, done.\n",
            "/content/MLprojekt/MLprojekt/MLprojekt/MLprojekt/MLprojekt/MLprojekt/MLprojekt/MLprojekt/MLprojekt/MLprojekt/MLprojekt\n"
          ]
        }
      ]
    },
    {
      "cell_type": "code",
      "source": [
        "def remove_stop_words(data, stop_words):\n",
        "  data_new = []\n",
        "  for lyrics in data:\n",
        "    data_new.append([i.lower() for i in lyrics.split() if i.lower() not in stop_words])\n",
        "  return data_new\n",
        "\n",
        "stop_words = np.loadtxt('stop_words.csv', delimiter=',', dtype='str')\n",
        "X_train_cleared = remove_stop_words(X_train, stop_words)\n",
        "X_test_cleared = remove_stop_words(X_test, stop_words)\n"
      ],
      "metadata": {
        "id": "uduW7C6V-FNM"
      },
      "execution_count": 128,
      "outputs": []
    },
    {
      "cell_type": "code",
      "source": [
        "porter = PorterStemmer()\n",
        "\n",
        "def stem_words(data, stem):\n",
        "  data_new = []\n",
        "  for lyrics in data:\n",
        "    data_new.append([porter.stem(i) for i in lyrics])\n",
        "  return data_new\n",
        "\n",
        "porter = PorterStemmer()\n",
        "X_train_cleared = stem_words(X_train_cleared, porter.stem)\n",
        "X_test_cleared = stem_words(X_test_cleared, porter.stem)\n",
        "\n",
        "idx = np.random.randint(len(X_train_cleared), size=5)\n",
        "classes_inv = {0: 'neutral', 1: 'passive-aggressive'}\n",
        "\n",
        "for i in idx:\n",
        "    print(\"{}: {}\".format(classes_inv[y_train[i]], X_train_cleared[i]))\n"
      ],
      "metadata": {
        "colab": {
          "base_uri": "https://localhost:8080/"
        },
        "id": "RNyetSiIu2wL",
        "outputId": "9a297358-aaef-4c61-9c2d-10df2b703360"
      },
      "execution_count": 129,
      "outputs": [
        {
          "output_type": "stream",
          "name": "stdout",
          "text": [
            "neutral: ['weather', 'perfect', 'today']\n",
            "passive-aggressive: ['well,', \"that'\", 'certainli', 'differ']\n",
            "neutral: ['strong', 'opinion']\n",
            "neutral: [\"didn't\", 'consid', 'perspective;', 'apolog', 'oversight']\n",
            "passive-aggressive: [\"i'm\", 'amaz', 'incred', 'attent', 'detail']\n"
          ]
        }
      ]
    },
    {
      "cell_type": "code",
      "source": [
        "from collections import Counter\n",
        "\n",
        "def join(X, y, label):\n",
        "  common_words = ' '\n",
        "  for i in range(0, len(X)):\n",
        "    if y[i] == label:\n",
        "      for j in range(0, len(X[i])):\n",
        "        common_words = common_words + \" \" + X[i][j]\n",
        "  return common_words\n",
        "\n",
        "passive_aggressive_words = join(X_train_cleared, all_labels, 1) + join(X_test_cleared, all_labels, 1)\n",
        "non_passive_aggressive_words = join(X_train_cleared, all_labels, 0) + join(X_test_cleared, all_labels, 0)\n",
        "\n",
        "passive_aggressive_word_freq = Counter(passive_aggressive_words.split()).most_common(20)\n",
        "non_passive_aggressive_word_freq = Counter(non_passive_aggressive_words.split()).most_common(20)\n",
        "\n",
        "print(\"Most common 20 Passive-Aggressive:\", passive_aggressive_word_freq)\n",
        "print(\"Most common 20 Non-Passive-Aggressive:\", non_passive_aggressive_word_freq)"
      ],
      "metadata": {
        "colab": {
          "base_uri": "https://localhost:8080/"
        },
        "id": "qRTtezAwAsjW",
        "outputId": "eb743561-fceb-4c18-ca8a-afce34236094"
      },
      "execution_count": 130,
      "outputs": [
        {
          "output_type": "stream",
          "name": "stdout",
          "text": [
            "Most common 20 Passive-Aggressive: [(\"i'm\", 91), (\"you'r\", 39), ('alway', 25), ('feel', 23), (\"it'\", 23), ('certainli', 19), (\"you'v\", 17), ('love', 14), ('thing', 13), ('sure', 13), ('truli', 12), ('find', 12), ('time', 12), (\"don't\", 11), ('bit', 11), ('know', 11), ('appreci', 11), (\"that'\", 11), ('interest', 10), ('today', 10)]\n",
            "Most common 20 Non-Passive-Aggressive: [(\"i'm\", 161), (\"you'r\", 58), ('alway', 46), ('feel', 42), (\"it'\", 40), (\"that'\", 34), ('critic', 29), ('love', 28), ('sure', 27), ('averag', 24), ('way', 23), (\"you'v\", 23), ('know', 22), ('thing', 22), ('certainli', 21), ('see', 21), ('approach', 20), ('like', 20), ('one', 19), ('feedback', 19)]\n"
          ]
        }
      ]
    },
    {
      "cell_type": "code",
      "source": [
        "def transform_bag(data, vocab):\n",
        "    matrix = []\n",
        "    for d in data:\n",
        "      matrix.append([1 if i in d else 0 for i in vocab])\n",
        "    res = np.asarray(matrix)\n",
        "    return res\n",
        "\n",
        "vocabulary = np.loadtxt('vocabulary.csv', delimiter=',', dtype='str').tolist()\n",
        "\n",
        "X_train_cleared = transform_bag(X_train_cleared, vocabulary)\n",
        "X_test_cleared = transform_bag(X_test_cleared, vocabulary)"
      ],
      "metadata": {
        "id": "dNnlZ03DxuSP"
      },
      "execution_count": 131,
      "outputs": []
    },
    {
      "cell_type": "code",
      "source": [
        "def predict_constant(data):\n",
        "    m = np.mean(data)\n",
        "    if m < 0.5:\n",
        "      m = 1 - m\n",
        "    return m\n",
        "\n",
        "print(\"Testing accuracy for constant: {}\".format(predict_constant(y_test)))\n",
        "\n",
        "best_score = 0\n",
        "\n",
        "for c in range(1, 51, 5):\n",
        "  for g in range(1, 22, 5):\n",
        "    svc = svm.SVC(C=c, gamma=g, kernel='rbf')\n",
        "    svc.fit(X_train_cleared, y_train)\n",
        "    score = svc.score(X_test_cleared, y_test)\n",
        "    if (score > best_score):\n",
        "      best_score = score\n",
        "\n",
        "print(\"Best testing accuracy for SVM: {}\".format(best_score))\n",
        "\n",
        "best_score = 0\n",
        "\n",
        "for d in range(50, 100, 5):\n",
        "  for e in range(10, 60, 5):\n",
        "    rfc = RandomForestClassifier(n_estimators=e, max_depth=d)\n",
        "    rfc.fit(X_train_cleared, y_train)\n",
        "    score = rfc.score(X_test_cleared, y_test)\n",
        "    if (score > best_score):\n",
        "      best_score = score\n",
        "\n",
        "print(\"Best testing accuracy for Random Forest: {}\".format(best_score))\n",
        "\n",
        "best_score = 0\n",
        "\n",
        "for c in range(1, 30, 5):\n",
        "  lr = LogisticRegression(verbose=5, C=c)\n",
        "  lr.fit(X_train_cleared, y_train)\n",
        "  score = lr.score(X_test_cleared, y_test)\n",
        "  if (score > best_score):\n",
        "      best_score = score\n",
        "\n",
        "print(\"Best testing accuracy for logistic regression: {}\".format(best_score))\n"
      ],
      "metadata": {
        "colab": {
          "base_uri": "https://localhost:8080/"
        },
        "id": "r7ERmJVz8QyM",
        "outputId": "fd2c8e41-6d1a-4381-f361-bf88c2121b1c"
      },
      "execution_count": 132,
      "outputs": [
        {
          "output_type": "stream",
          "name": "stdout",
          "text": [
            "Testing accuracy for constant: 0.6415094339622642\n",
            "Best testing accuracy for SVM: 0.660377358490566\n",
            "Best testing accuracy for Random Forest: 0.6792452830188679\n",
            "Best testing accuracy for logistic regression: 0.6698113207547169\n"
          ]
        }
      ]
    },
    {
      "cell_type": "code",
      "source": [
        "def tokenize_messages(X):\n",
        "    matrix = []\n",
        "    for m in X:\n",
        "      matrix.append(m.split())\n",
        "    return matrix\n",
        "\n",
        "def w2v_modification(message, w2v):\n",
        "    words = message.split()\n",
        "    words = [w for w in words if w in w2v.wv]\n",
        "    if len(words) == 0:\n",
        "        return np.zeros(w2v.vector_size)\n",
        "    word_vectors = [w2v.wv[word] for word in words]\n",
        "    return np.mean(word_vectors, axis=0)\n",
        "\n",
        "X_w2v = tokenize_messages(df_train[\"message\"])\n",
        "word2vec = Word2Vec(X_w2v, vector_size=100, window=5, min_count=1, sg=0)\n",
        "\n",
        "X_train_word2vec = np.array([w2v_modification(message, word2vec) for message in X_train])\n",
        "X_test_word2vec = np.array([w2v_modification(message, word2vec) for message in X_test])\n",
        "\n"
      ],
      "metadata": {
        "id": "cCiZ6E9d6Ykk"
      },
      "execution_count": 133,
      "outputs": []
    },
    {
      "cell_type": "code",
      "source": [
        "print(\"Testing accuracy for constant: {}\".format(predict_constant(y_test)))\n",
        "\n",
        "best_score = 0\n",
        "\n",
        "for c in range(1, 51, 10):\n",
        "  for g in range(1, 22, 10):\n",
        "    svc = svm.SVC(C=c, gamma=g, kernel='rbf')\n",
        "    svc.fit(X_train_word2vec, y_train)\n",
        "    score = svc.score(X_test_word2vec, y_test)\n",
        "    if (score > best_score):\n",
        "      best_score = score\n",
        "\n",
        "print(\"Best testing accuracy for SVM with Word2Vec: {}\".format(best_score))\n",
        "\n",
        "\n",
        "best_score = 0\n",
        "\n",
        "for d in range(50, 100, 5):\n",
        "  for e in range(10, 60, 5):\n",
        "    rfc = RandomForestClassifier(n_estimators=e, max_depth=d)\n",
        "    rfc.fit(X_train_word2vec, y_train)\n",
        "    score = rfc.score(X_test_word2vec, y_test)\n",
        "    if (score > best_score):\n",
        "      best_score = score\n",
        "\n",
        "print(\"Best testing accuracy for Random Forest with Word2Vec: {}\".format(best_score))\n",
        "\n",
        "\n",
        "best_score = 0\n",
        "\n",
        "for c in range(1, 30, 5):\n",
        "  lr = LogisticRegression(verbose=5, C=c)\n",
        "  lr.fit(X_train_word2vec, y_train)\n",
        "  score = lr.score(X_test_word2vec, y_test)\n",
        "  if (score > best_score):\n",
        "      best_score = score\n",
        "\n",
        "print(\"Best testing accuracy for logistic regression with Word2Vec: {}\".format(best_score))\n"
      ],
      "metadata": {
        "colab": {
          "base_uri": "https://localhost:8080/"
        },
        "id": "RMKm0pEM8yYV",
        "outputId": "76bbe26f-8df5-41ca-c50f-3d30b5a9b0ee"
      },
      "execution_count": 134,
      "outputs": [
        {
          "output_type": "stream",
          "name": "stdout",
          "text": [
            "Testing accuracy for constant: 0.6415094339622642\n",
            "Best testing accuracy for SVM with Word2Vec: 0.8066037735849056\n",
            "Best testing accuracy for Random Forest with Word2Vec: 0.8207547169811321\n",
            "Best testing accuracy for logistic regression with Word2Vec: 0.6415094339622641\n"
          ]
        }
      ]
    },
    {
      "cell_type": "code",
      "source": [
        "df = pd.DataFrame({\n",
        "    'random seed': ['20', '41', '50', '67', '80', '95'],\n",
        "    'Accuracy of constant': [0.5990566037735849, 0.6415094339622642, 0.5660377358490566, 0.6462264150943396, 0.6037735849056604, 0.5754716981132075],\n",
        "    'Accuracy of SVM': [0.6179245283018868, 0.660377358490566, 0.5990566037735849, 0.6933962264150944, 0.6509433962264151, 0.6273584905660378],\n",
        "    'Accuracy of Random Trees': [0.660377358490566, 0.6792452830188679, 0.6226415094339622, 0.7028301886792453, 0.6886792452830188, 0.6556603773584906],\n",
        "    'Accuracy of Logistic Regression': [0.6367924528301887, 0.6698113207547169, 0.6037735849056604, 0.6933962264150944, 0.6792452830188679, 0.6367924528301887],\n",
        "\n",
        "    'Accuracy of SVM with Word2Vec': [0.7688679245283019, 0.8066037735849056, 0.7783018867924528, 0.8113207547169812, 0.8066037735849056, 0.7641509433962265],\n",
        "    'Accuracy of Random Trees with Word2Vec': [0.7735849056603774, 0.8160377358490566, 0.75, 0.7830188679245284, 0.7971698113207547, 0.7783018867924528],\n",
        "    'Accuracy of Logistic Regression with Word2Vec': [0.5990566037735849, 0.6415094339622641, 0.5707547169811321, 0.6462264150943396, 0.6084905660377359, 0.5754716981132075]\n",
        "\n",
        "})\n",
        "\n",
        "df.plot(x=\"random seed\", y=[\"Accuracy of constant\", \"Accuracy of SVM with Word2Vec\", \"Accuracy of Random Trees with Word2Vec\", \"Accuracy of Logistic Regression with Word2Vec\"], kind=\"bar\")\n",
        "plt.ylim(0, 1)\n",
        "plt.legend(loc='upper center', bbox_to_anchor=(0.5, -0.15), fancybox=True, shadow=True, ncol=2)\n",
        "\n"
      ],
      "metadata": {
        "colab": {
          "base_uri": "https://localhost:8080/",
          "height": 538
        },
        "id": "4lgEPcLo1Prn",
        "outputId": "9dce34a5-904d-424c-cb25-ebcd994be545"
      },
      "execution_count": 135,
      "outputs": [
        {
          "output_type": "execute_result",
          "data": {
            "text/plain": [
              "<matplotlib.legend.Legend at 0x7bfd31b40bb0>"
            ]
          },
          "metadata": {},
          "execution_count": 135
        },
        {
          "output_type": "display_data",
          "data": {
            "text/plain": [
              "<Figure size 640x480 with 1 Axes>"
            ],
            "image/png": "[encoded data removed]"
          },
          "metadata": {}
        }
      ]
    }
  ]
}